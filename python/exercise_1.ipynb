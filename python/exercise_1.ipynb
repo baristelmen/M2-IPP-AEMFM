{
 "cells": [
  {
   "cell_type": "code",
   "execution_count": null,
   "id": "997ee6f2-1928-4bed-8d67-b45f879fce93",
   "metadata": {},
   "outputs": [],
   "source": [
    "%load_ext autoreload\n",
    "%autoreload 2"
   ]
  },
  {
   "cell_type": "markdown",
   "id": "0513db05-fbfd-4ae9-a72e-921deed92918",
   "metadata": {},
   "source": [
    "<div align=\"center\">\n",
    "    <hr> \n",
    "  <span style=\"font-family: Arial, sans-serif; font-size: 24px; font-weight: bold;\">\n",
    "    M2 - IPParis - Advanced Experimental Methods in Fluid Mechanics Acquisition - Signal processing\n",
    "  </span>\n",
    "  <hr> \n",
    "  <span style=\"font-family: Arial, sans-serif; font-size: 18px;\"> \n",
    "    <span style=\"font-weight: bold;\">Instructor:</span> Romain Monchaux - romain.monchaux@ensta.fr\n",
    "  </span>\n",
    "    <br>\n",
    "    <br>\n",
    "    <span style=\"font-family: Arial, sans-serif; font-size: 18px;\"> \n",
    "        <span style=\"font-weight: bold;\">Affiliation:</span> ENSTA-Paris - Institut Polytechnique de Paris\n",
    "    </span>\n",
    "    <hr> \n",
    "</div>"
   ]
  },
  {
   "cell_type": "markdown",
   "id": "fa931202-9ec7-4c55-8b9f-347597270f4f",
   "metadata": {},
   "source": [
    "# 1 - Gaussian white noise"
   ]
  },
  {
   "cell_type": "markdown",
   "id": "5e9e1cf8-bcfe-47d7-8823-ac332b26653a",
   "metadata": {},
   "source": [
    "## Context"
   ]
  },
  {
   "cell_type": "markdown",
   "id": "6cfed620-f3a0-41e9-a148-213cccf4d990",
   "metadata": {},
   "source": [
    "Gaussian white noise (GWN) is a statistical model of noise that combines two key properties: whiteness and a Gaussian distribution. It's a fundamental concept used in various fields like signal processing, communications, and physics to model random disturbances in a system.\n",
    "\n",
    "#### White Noise\n",
    "The term \"white\" refers to the noise's power spectral density (PSD), which is uniform across all frequencies. This is analogous to white light, which contains all frequencies (colors) of the visible spectrum in equal intensity. In a signal, this means the noise has no dominant frequency and is uncorrelated at different points in time. The noise at one instant has no statistical relationship to the noise at any other instant."
   ]
  },
  {
   "cell_type": "markdown",
   "id": "012e3d98-c731-4f9a-ac59-98910796a996",
   "metadata": {},
   "source": [
    "#### Gaussian Distribution\n",
    "The term \"Gaussian\" means that the amplitude of the noise at any given moment follows a normal distribution, often visualized as a bell curve.\n",
    "\n",
    "<div align=\"center\">\n",
    "  <img src=\"./images/gauss.jpeg\" alt=\"Gaussian distribution\" style=\"height: 400px;\">\n",
    "</div>"
   ]
  },
  {
   "cell_type": "markdown",
   "id": "8642ac9e-b9ba-4679-9b39-036259d65469",
   "metadata": {},
   "source": [
    "<div align=\"center\">\n",
    "    <hr> \n",
    "</div>"
   ]
  },
  {
   "cell_type": "markdown",
   "id": "bf90c59d-7805-42be-8a4d-2f860ce59636",
   "metadata": {},
   "source": [
    "### Questions"
   ]
  },
  {
   "cell_type": "markdown",
   "id": "578f771b-b81a-425a-a320-9be5df978255",
   "metadata": {},
   "source": [
    "<div align=\"center\">\n",
    "    <hr> \n",
    "</div>"
   ]
  },
  {
   "cell_type": "markdown",
   "id": "9ffbff74-a6da-4c1e-a67e-604c9fbeacbc",
   "metadata": {},
   "source": [
    "#### Question - 1 "
   ]
  },
  {
   "cell_type": "markdown",
   "id": "6cf28c6a-14c8-4f59-9417-4e79f9d6014f",
   "metadata": {},
   "source": [
    "Create a figure showing the raw time signal. Use the x-axis controls to zoom in and out on the data, and analyze the signal's behavior at both macro and micro scales.\n",
    "\n",
    "<div style=\"background-color: #e0f2f1;\">\n",
    "  <span style=\"font-weight: bold;\">Hint:</span> For this purpose, we'll use the well-known Python library Matplotlib. The data you'll be using is located in **../data/sig1.mat** and is called **'sig1.mat'**\n",
    "</div>"
   ]
  },
  {
   "cell_type": "code",
   "execution_count": null,
   "id": "41ea713a-6ea8-4e08-a4c2-f4454996112c",
   "metadata": {},
   "outputs": [],
   "source": [
    "## Here we are importing required libraries \n",
    "import matplotlib.pyplot as plt ## -> for plotting\n",
    "import scipy.io ## -> for accessing the mat file from python"
   ]
  },
  {
   "cell_type": "code",
   "execution_count": null,
   "id": "7060981b-fde8-4398-b1d6-1938f1f934a6",
   "metadata": {},
   "outputs": [],
   "source": [
    "# Loading signal data\n",
    "temp1 = scipy.io.loadmat('../data/sig1.mat')\n",
    "t1 = temp1['t'].flatten()      # get time vector t1\n",
    "Sig1 = temp1['Sig1'].flatten() # get signal vector\n",
    "Fs1 = int(temp1['Fs'].item())         # get sampling frequency"
   ]
  },
  {
   "cell_type": "code",
   "execution_count": null,
   "id": "49fb8082-da8e-4af8-883d-e54395e6ef9b",
   "metadata": {},
   "outputs": [],
   "source": [
    "##########################################\n",
    "## Plotting routine\n",
    "##########################################\n",
    "fig, ax = plt.subplots(ncols=1, nrows=1, figsize=(10,5))\n",
    "\n",
    "ax.plot(t1, Sig1, marker = \".\", markersize=2, linewidth = 1, \n",
    "        markerfacecolor = \"tab:blue\", markeredgecolor=\"tab:blue\", color=\"tab:blue\")\n",
    "\n",
    "ax.set_xlabel(\"Time (s)\", fontsize = 14, labelpad = 5)\n",
    "ax.set_ylabel(\"Signal\", fontsize = 14, labelpad = 5)\n",
    "ax.set_title(\"Sig 1\", fontsize = 14, pad = 20)\n",
    "\n",
    "ax.tick_params(axis='both', which='major', labelsize=12)\n",
    "ax.tick_params(axis='both', which='minor', labelsize=12)\n",
    "\n",
    "lim_min_x = t1.min()\n",
    "lim_max_x = t1.max()\n",
    "\n",
    "if lim_min_x > 0:\n",
    "    lim_min_x = 0\n",
    "\n",
    "ax.set_xlim(lim_min_x-1, int(lim_max_x*1.01))\n",
    "ax.grid()"
   ]
  },
  {
   "cell_type": "code",
   "execution_count": null,
   "id": "ff15ca79-c19d-4926-858c-15cde58ad6ed",
   "metadata": {},
   "outputs": [],
   "source": [
    "## Define your limits here\n",
    "##########################################\n",
    "xmin = \n",
    "xmax = \n",
    "##########################################\n",
    "\n",
    "##########################################\n",
    "## Plotting routine\n",
    "##########################################\n",
    "fig, ax = plt.subplots(ncols=1, nrows=1, figsize=(10,5))\n",
    "\n",
    "ax.plot(t1, Sig1, marker = \".\", markersize=2, linewidth = 1, \n",
    "        markerfacecolor = \"tab:blue\", markeredgecolor=\"tab:blue\", color=\"tab:blue\")\n",
    "\n",
    "ax.set_xlabel(\"Time (s)\", fontsize = 14, labelpad = 5)\n",
    "ax.set_ylabel(\"Signal\", fontsize = 14, labelpad = 5)\n",
    "ax.set_title(\"Sig 1\", fontsize = 14, pad = 20)\n",
    "\n",
    "ax.tick_params(axis='both', which='major', labelsize=12)\n",
    "ax.tick_params(axis='both', which='minor', labelsize=12)\n",
    "\n",
    "ax.set_xlim([xmin,xmax/1000])\n",
    "plt.show()\n",
    "##########################################"
   ]
  },
  {
   "cell_type": "code",
   "execution_count": null,
   "id": "66075903-f3eb-42fc-ae05-0a450771667c",
   "metadata": {},
   "outputs": [],
   "source": [
    "plt.savefig('./figures/BBG_de_tps_'+str(xmax)+'.png',  bbox_inches = 'tight')"
   ]
  },
  {
   "cell_type": "markdown",
   "id": "9300f045-246e-4184-a6e0-ae5d2d3a12dc",
   "metadata": {},
   "source": [
    "<div align=\"center\">\n",
    "    <hr> \n",
    "</div>"
   ]
  },
  {
   "cell_type": "markdown",
   "id": "706e24fe-3026-4b05-bc7a-84a36d6a434b",
   "metadata": {},
   "source": [
    "#### Question - 2"
   ]
  },
  {
   "cell_type": "markdown",
   "id": "bb3ca47f-2d82-46c0-ab3f-f062cf5a6273",
   "metadata": {},
   "source": [
    "Now, you'll estimate the average and standard deviation of the signal using a varying number of data points. To do this, create a vector called NbPt with a set of increasing values. This will allow you to study how the number of points influences the accuracy of these statistical estimates. Finally, compare your results with the concepts discussed in the lecture.\n",
    "\n",
    "<div style=\"background-color: #e0f2f1;\">\n",
    "  <span style=\"font-weight: bold;\">Hint:</span> To make our life easier, we will be using an another library called numpy to help us\n",
    "</div>"
   ]
  },
  {
   "cell_type": "code",
   "execution_count": null,
   "id": "5dde4c40-2933-413c-9af8-db9c84029a78",
   "metadata": {},
   "outputs": [],
   "source": [
    "## Here we are importing required libraries \n",
    "import numpy as np ## -> Extremely useful library for matrix operations"
   ]
  },
  {
   "cell_type": "code",
   "execution_count": null,
   "id": "59367a48-5ea9-4408-bbe2-4e5e6bb8a91d",
   "metadata": {},
   "outputs": [],
   "source": [
    "##########################################\n",
    "## Define your numpy array here. \n",
    "## To create a numpy array, you can use \n",
    "## np.array([xx, xx, xx ...]) where \n",
    "## xx are the values that you will give\n",
    "##########################################\n",
    "NbPt = 2 ** np.array([xx, xx, xx, xx])\n",
    "\n",
    "##########################################\n",
    "## Calculation of average and standard deviation by numpy\n",
    "##########################################\n",
    "average, standardev = [],[]\n",
    "for i in range(len(NbPt)):\n",
    "    Data=Sig1[:NbPt[i]]\n",
    "    average.append(np.mean(Data))\n",
    "    standardev.append(np.std(Data))\n",
    "##########################################\n",
    "\n",
    "##########################################\n",
    "## Plotting routine\n",
    "##########################################\n",
    "fig, ax = plt.subplots(ncols=1, nrows=1, figsize=(10,5))\n",
    "\n",
    "## Plotting average values\n",
    "ax.plot(NbPt, average, marker = \"o\", markerfacecolor = \"red\", markeredgecolor = \"red\", \n",
    "        linewidth = 1, color = \"red\", label = \"average\")\n",
    "\n",
    "## Plotting standard deviation\n",
    "ax.plot(NbPt, standardev, marker = \"s\", markerfacecolor = \"blue\", markeredgecolor = \"blue\", \n",
    "        linewidth = 1, color = \"blue\", label = \"Standard deviation\")\n",
    "\n",
    "ax.axhline(y=0, color='black', linestyle='--')\n",
    "ax.axhline(y=1, color='black', linestyle='--')\n",
    "ax.set_xlabel('Number of points', fontsize = 14, labelpad = 5)\n",
    "ax.set_ylabel('Moment value', fontsize = 14, labelpad = 5)\n",
    "ax.set_title('Sig1', fontsize = 14, pad = 20)\n",
    "ax.set_xscale('log')\n",
    "ax.legend(loc = \"upper right\")\n",
    "\n",
    "ax.tick_params(axis='both', which='major', labelsize=12)\n",
    "ax.tick_params(axis='both', which='minor', labelsize=12)\n",
    "##########################################\n",
    "\n",
    "##########################################\n",
    "## Saving figure here\n",
    "fig.savefig('./figures/BBG_Moy_de_N.png',  bbox_inches = 'tight')"
   ]
  },
  {
   "cell_type": "markdown",
   "id": "b012e73d-e6c7-433b-a392-a5cef5576936",
   "metadata": {},
   "source": [
    "<div align=\"center\">\n",
    "    <hr> \n",
    "</div>"
   ]
  },
  {
   "cell_type": "markdown",
   "id": "ab6f83a8-105c-46fa-8187-7cfcb4d47571",
   "metadata": {},
   "source": [
    "#### Question - 3"
   ]
  },
  {
   "cell_type": "markdown",
   "id": "eea9c9de-0e9a-4a29-b67b-329834f231cb",
   "metadata": {},
   "source": [
    "Now, we'll estimate the probability density function of this Gaussian white noise. To begin, we'll explore different representations of the function.\n",
    "\n",
    "* Set the number of successive data points (NbPt) to 220 and the number of bins (NbBin) to 100.\n",
    "* Run the code cell. This will generate three different plots of the same probability density function, each highlighting a unique aspect of the data.\n",
    "* Analyze and comment on the results.\n",
    "\n",
    "<div style=\"background-color: #e0f2f1;\">\n",
    "  <span style=\"font-weight: bold;\">Hint:</span> To make our life easier, we will be using numpy again!\n",
    "</div>"
   ]
  },
  {
   "cell_type": "code",
   "execution_count": null,
   "id": "0ceaca50-b9fa-4b83-9efb-3bc23a088515",
   "metadata": {},
   "outputs": [],
   "source": [
    "##########################################\n",
    "## Let us create the re-usable functions here\n",
    "##########################################\n",
    "\n",
    "## Function 1: Gaussian Probability Density Function (PDF)\n",
    "def Gauss(x):\n",
    "    \"\"\"\n",
    "    Calculates the value of the standard normal (Gaussian) PDF at a point x.\n",
    "    Formula: f(x) = (1 / sqrt(2*pi)) * exp(-x^2 / 2)\n",
    "    This function is useful for plotting a theoretical Gaussian distribution.\n",
    "    \"\"\"\n",
    "    return (1 / np.sqrt(2 * np.pi)) * np.exp(-(x ** 2) / 2)\n",
    "\n",
    "## Function 2: Estimating a PDF from a Signal\n",
    "def Calc_PDF(SIG, NbBin):\n",
    "    \"\"\"\n",
    "    Estimates the Probability Density Function (PDF) of a signal.\n",
    "    \n",
    "    This is done by creating a histogram and normalizing it so that the\n",
    "    total area under the histogram is equal to 1. The `density=True` option\n",
    "    in `np.histogram` handles this normalization automatically, which is\n",
    "    more efficient and less prone to error than manual normalization.\n",
    "    \n",
    "    Args:\n",
    "        SIG (numpy.ndarray): The input signal (a 1D array of numerical data).\n",
    "        NbBin (int): The number of bins to use for the histogram.\n",
    "        \n",
    "    Returns:\n",
    "        tuple: A tuple containing two numpy arrays:\n",
    "               - Bin_Centers (numpy.ndarray): The center values of each bin.\n",
    "               - PDF (numpy.ndarray): The estimated PDF values for each bin.\n",
    "    \"\"\"\n",
    "    # Use np.histogram with the 'density=True' option.\n",
    "    # This directly returns the PDF values for each bin.\n",
    "    PDF, Bin_Edges = np.histogram(SIG, bins=NbBin, density=True)\n",
    "    \n",
    "    # Calculate the center of each bin for plotting.\n",
    "    # np.diff() calculates the difference between consecutive bin edges.\n",
    "    # The result is a simple and accurate way to find the center of each bar.\n",
    "    Bin_Centers = Bin_Edges[:-1] + np.diff(Bin_Edges) / 2\n",
    "    \n",
    "    return Bin_Centers, PDF"
   ]
  },
  {
   "cell_type": "code",
   "execution_count": null,
   "id": "9c6edda9-a8f9-431b-b896-8278233ed40b",
   "metadata": {},
   "outputs": [],
   "source": [
    "##########################################\n",
    "## Here set the number of bins and points\n",
    "##########################################\n",
    "NbPt = XX\n",
    "NbBin = XX\n",
    "\n",
    "Bin,PDF = Calc_PDF(Sig1[:NbPt], NbBin)\n",
    "BG = np.linspace(-5,5,2**20)\n",
    "\n",
    "\n",
    "##########################################\n",
    "## Plotting routine\n",
    "##########################################\n",
    "# Create a figure\n",
    "fig = plt.figure(figsize=(15, 10))\n",
    "\n",
    "## First plot: Top-left\n",
    "ax1 = plt.subplot2grid((2, 2), (0, 0))\n",
    "ax1.plot(Bin, PDF, linewidth=2, color=\"tab:blue\", linestyle=\"-\")\n",
    "ax1.plot(BG, Gauss(BG), linewidth=2, color=\"black\", linestyle='-.')\n",
    "ax1.set_xlabel('Signal Values', fontsize=14, labelpad=5)\n",
    "ax1.set_ylabel('PDF', fontsize=14, labelpad=5)\n",
    "ax1.tick_params(axis='both', which='major', labelsize=12)\n",
    "ax1.tick_params(axis='both', which='minor', labelsize=12)\n",
    "ax1.set_title('Linear Scale')\n",
    "\n",
    "## Second plot: Top-right\n",
    "ax2 = plt.subplot2grid((2, 2), (0, 1))\n",
    "ax2.plot(Bin, PDF, linewidth=2, color=\"tab:blue\", linestyle=\"-\")\n",
    "ax2.plot(BG, Gauss(BG), linewidth=2, color=\"black\", linestyle='-.')\n",
    "ax2.set_xlabel('Signal Values', fontsize=14, labelpad=5)\n",
    "ax2.set_ylim([0.25, 0.45])\n",
    "ax2.set_xlim([-1, 1])\n",
    "ax2.tick_params(axis='both', which='major', labelsize=12)\n",
    "ax2.tick_params(axis='both', which='minor', labelsize=12)\n",
    "ax2.set_title('Zoomed-in View')\n",
    "\n",
    "# Third plot: Bottom-center, spanning two columns\n",
    "# This is the key change. We tell it to start at grid position (1, 0)\n",
    "# and span 2 columns (colspan=2).\n",
    "ax3 = plt.subplot2grid((2, 2), (1, 0), colspan=2)\n",
    "ax3.plot(Bin, PDF, linewidth=2, color=\"tab:blue\", linestyle=\"-\")\n",
    "ax3.plot(BG, Gauss(BG), linewidth=2, color=\"black\", linestyle='-.')\n",
    "ax3.set_xlabel('Signal Values', fontsize=14, labelpad=5)\n",
    "ax3.set_ylabel('PDF', fontsize=14, labelpad=5)\n",
    "ax3.set_yscale('log')\n",
    "ax3.tick_params(axis='both', which='major', labelsize=12)\n",
    "ax3.tick_params(axis='both', which='minor', labelsize=12)\n",
    "ax3.set_title('Log Scale')\n",
    "\n",
    "# Adjust layout and save the figure\n",
    "plt.tight_layout()\n",
    "plt.savefig('./figures/BBG_PDF_0.png', bbox_inches='tight')\n"
   ]
  },
  {
   "cell_type": "code",
   "execution_count": null,
   "id": "6ac972d8-2da3-4d4c-bcee-e7084fa202ec",
   "metadata": {},
   "outputs": [],
   "source": [
    "<div align=\"center\">\n",
    "    <hr> \n",
    "</div>"
   ]
  },
  {
   "cell_type": "markdown",
   "id": "f1fa558c-429f-4161-8ced-a9b3b7e31d76",
   "metadata": {},
   "source": [
    "#### Question - 4"
   ]
  },
  {
   "cell_type": "markdown",
   "id": "49d2ac33-505c-498a-9906-1203837aa2f3",
   "metadata": {},
   "source": [
    "Now, let's examine the influence of the number of bins on our estimation.\n",
    "\n",
    "* Choose a number of data points (NbPt) to sample from the original signal.\n",
    "* Fill the NbBin vector with five increasing values.\n",
    "* Run the code cell to generate five probability density function plots. Each plot will use the same NbPt value but a different number of bins from your NbBin vector.\n",
    "* Determine the optimal number of bins, or intervals, that provides the best estimate of the probability density function.\n",
    "* Plot this optimal number as a function of NbPt.\n",
    "* Analyze and comment on the results, explaining the relationship between the number of bins and the number of data points.\n",
    "\n",
    "<div style=\"background-color: #e0f2f1;\">\n",
    "  <span style=\"font-weight: bold;\">Hint:</span> No need to import or write functions. We re-use!\n",
    "</div>"
   ]
  },
  {
   "cell_type": "code",
   "execution_count": null,
   "id": "338d89bf-214e-4e57-bcea-8e7cbd62f389",
   "metadata": {},
   "outputs": [],
   "source": [
    "##########################################\n",
    "## Here set the number of bins (as array)\n",
    "## and points. To set an array, \n",
    "## [XX, XX, XX] where XX is the number that\n",
    "## you will choose\n",
    "##########################################\n",
    "NbPt = 2**20\n",
    "NbBin = [XX, XX, XX]\n",
    "\n",
    "##########################################\n",
    "## Plotting routine\n",
    "##########################################\n",
    "fig, ax = plt.subplots(2, 5, figsize=(15, 4), sharey=False)\n",
    "fig.tight_layout(h_pad=2)\n",
    "\n",
    "## Simply we are looping with the length of NbBin\n",
    "for i in range(0,len(NbBin)):\n",
    "    Bin, PDF = Calc_PDF(Sig1[:NbPt], NbBin[i])\n",
    "    ax[0,i%5].plot(Bin,PDF)\n",
    "    ax[0,i%5].plot(BG,Gauss(BG),'-.k')\n",
    "    ax[0,i%5].set_title('NbBin='+str(NbBin[i]))\n",
    "    ax[0,i%5].set_xlabel('Signal Values')\n",
    "    ax[0,i%5].set_ylabel('PDF')\n",
    "    ax[0,i%5].set_ylim([0.25,0.45])\n",
    "    ax[0,i%5].set_xlim([-1,1])\n",
    "\n",
    "    ax[0,i%5].grid()\n",
    "\n",
    "    \n",
    "    ax[1,i%5].plot(Bin,PDF)\n",
    "    ax[1,i%5].plot(BG,Gauss(BG),'-.k')\n",
    "    ax[1,i%5].set_yscale('log')\n",
    "    ax[1,i%5].set_xlabel('Signal Values')\n",
    "    ax[1,i%5].set_ylabel('PDF')\n",
    "\n",
    "    ax[1,i%5].grid()\n",
    "fig.savefig('./figures/BBG_PDF.png',  bbox_inches = 'tight')\n"
   ]
  },
  {
   "cell_type": "code",
   "execution_count": null,
   "id": "6f5b53aa-6be9-4f63-aebd-0c7049f084ff",
   "metadata": {},
   "outputs": [],
   "source": [
    "## Synthesis:\n",
    "plt.figure()\n",
    "plt.xlabel('Number of points')\n",
    "plt.ylabel('Number of Bins')\n",
    "plt.title('PDF convergence')\n",
    "NbPt  = 2 ** np.array([10, 12, 16, 18, 20])\n",
    "NbBin =    [25, 40, 65, 120, 200] \n",
    "plt.plot(NbPt, NbBin, 'ob',label = 'data points')\n",
    "plt.plot(np.linspace(0, 10**6, 10**5), 2 * np.linspace(0, 10**6, 10**5)**(1/3),'-.k', label='y = 2 x^(1/3)')\n",
    "plt.legend()\n",
    "plt.savefig('./figures/BBG_synthese.png',  bbox_inches = 'tight')"
   ]
  },
  {
   "cell_type": "markdown",
   "id": "bf3e1312-cdc9-4a2d-bbca-e322f874b280",
   "metadata": {},
   "source": [
    "<div align=\"center\">\n",
    "    <hr> \n",
    "</div>"
   ]
  },
  {
   "cell_type": "markdown",
   "id": "e975bcb3-ffb9-45df-b6cb-d3b54ee6e909",
   "metadata": {},
   "source": [
    "# Question 2 - Spectrum and auto-correlation"
   ]
  },
  {
   "cell_type": "markdown",
   "id": "0046180e-b878-476e-9599-b2be2e83af4d",
   "metadata": {},
   "source": [
    "## Context"
   ]
  },
  {
   "cell_type": "markdown",
   "id": "c4c53124-afc2-4974-a3fa-92ed63ade0e0",
   "metadata": {},
   "source": [
    "Spectrum and autocorrelation are two fundamental concepts in signal processing used to analyze the properties of a signal, especially random or time-varying signals. They are two different but related ways of looking at the same information.\n",
    "\n",
    "#### Autocorrelation\n",
    "Autocorrelation measures the similarity between a signal and a time-shifted version of itself. Essentially, it tells you how much a signal resembles itself over different time lags.\n",
    "\n",
    "* A high autocorrelation at a given time lag means the signal is highly correlated with its past values at that specific lag.\n",
    "* A low or zero autocorrelation means the signal's past values do not predict its future values.\n",
    "\n",
    "For example, a perfectly periodic signal, like a sine wave, will have a high autocorrelation at time lags equal to its period. White noise, on the other hand, is completely random and uncorrelated, so its autocorrelation function will be a sharp spike at a time lag of zero and zero everywhere else.\n",
    "\n",
    "\n",
    "#### Spectrum\n",
    "The spectrum of a signal, also known as its power spectral density (PSD), shows how the signal's energy or power is distributed across different frequencies. .\n",
    "\n",
    "* A peak in the spectrum at a particular frequency indicates that the signal contains a strong periodic component at that frequency.\n",
    "* A flat spectrum (like that of white noise) means the signal's energy is spread equally across all frequencies.\n",
    "\n",
    "The spectrum is obtained by taking the Fourier Transform of the signal. This mathematical operation converts a signal from the time domain (amplitude vs. time) to the frequency domain (power vs. frequency).\n",
    "\n",
    "#### The Relationship\n",
    "The spectrum and autocorrelation are directly related through the welch theorem. This theorem states that the autocorrelation function and the power spectral density (spectrum) form a Fourier transform pair. It's a widely used and effective technique for analyzing the frequency content of noisy or non-stationary signals.\n",
    "\n",
    "This means that if you know a signal's autocorrelation, you can find its spectrum by taking the Fourier transform, and vice versa. They are two sides of the same coin, providing complementary information about the same signal: autocorrelation describes a signal's properties in the time domain, while the spectrum describes them in the frequency domain."
   ]
  },
  {
   "cell_type": "markdown",
   "id": "46063019-046d-4346-836f-a43975dfc7e3",
   "metadata": {},
   "source": [
    "### Exercises"
   ]
  },
  {
   "cell_type": "markdown",
   "id": "1c1c0e81-d05c-498c-afe1-6a22f9a54b03",
   "metadata": {},
   "source": [
    "<div align=\"center\">\n",
    "    <hr> \n",
    "</div>"
   ]
  },
  {
   "cell_type": "markdown",
   "id": "597e7b38-66c5-481a-b834-c734b171a886",
   "metadata": {},
   "source": [
    "#### Question - 1"
   ]
  },
  {
   "cell_type": "markdown",
   "id": "e082b644-a658-4f2c-8817-b17e6512e223",
   "metadata": {},
   "source": [
    "Now, let's examine the influence of the number of bins on our estimation.\n",
    "\n",
    "Now, you will estimate the power spectral density (PSD) of the Gaussian white noise. We will use the scipy.signal.welch function, which requires the following six inputs:\n",
    "\n",
    "* **Sig1[1:NbPoint]:** The signal, limited to a specific number of data points.\n",
    "* **Fs:** The sampling frequency of the signal.\n",
    "* **window:** The type of window function to apply (e.g., 'hann').\n",
    "* **nperseg:** The length of each segment used in the Welch method.\n",
    "* **Noverlap:** The number of overlapping points between consecutive segments.\n",
    "* **Nfft:** The number of points for the Fast Fourier Transform (FFT).\n",
    "\n",
    "Your task is as follows:\n",
    "\n",
    "1. Plot the spectrum of the Gaussian white noise using different window lengths (nperseg).\n",
    "2. Describe the results you obtain for each plot.\n",
    "3. Calculate the frequency resolution of the spectrum in each case.\n",
    "4. Explain how you would choose the arguments for scipy.signal.welch in a future scenario.\n",
    "\n",
    "<div style=\"background-color: #e0f2f1;\">\n",
    "  <span style=\"font-weight: bold;\">Hint:</span> To use welch theorem, we can use scipy.signal.welch! Another useful library!\n",
    "</div>"
   ]
  },
  {
   "cell_type": "code",
   "execution_count": null,
   "id": "b5d77be6-f50f-46f9-a826-509fd1daa4b6",
   "metadata": {},
   "outputs": [],
   "source": [
    "from scipy.signal import welch as welch\n",
    "import numpy as np"
   ]
  },
  {
   "cell_type": "code",
   "execution_count": null,
   "id": "f73396b1-592b-4fe4-acf5-33c55ee49a4e",
   "metadata": {},
   "outputs": [],
   "source": [
    "##########################################\n",
    "## Here set the Nfft\n",
    "##########################################\n",
    "Nfft = 2**XX # number of points used for the FFT calculation\n",
    "NbPoint = 2**20 # number of points in the signal\n",
    "Noverlap = Nfft / 2 # number of overlaping points\n",
    "Nwindow = Nfft # window length\n",
    "Fs = Fs1 # sampling frequency\n",
    "\n",
    "## Let us calculate using welch\n",
    "F, Pxx = welch(Sig1[:NbPoint], \n",
    "               Fs, \n",
    "               window = 'hamming', \n",
    "               nperseg = Nwindow, \n",
    "               noverlap = Noverlap, \n",
    "               nfft = Nfft)\n",
    "\n",
    "\n",
    "\n",
    "##########################################\n",
    "## Plotting routine\n",
    "##########################################\n",
    "fig, ax = plt.subplots(ncols=1, nrows=1, figsize=(10,5))\n",
    "\n",
    "ax.plot(F, Pxx, marker = \".\", markersize=2, linewidth = 1, \n",
    "        markerfacecolor = \"tab:blue\", markeredgecolor=\"tab:blue\", color=\"tab:blue\", label = rf\"$\\Delta f$={Fs/Nfft:.3f}\")\n",
    "\n",
    "ax.set_xlabel(\"Frequency (Hz)\", fontsize = 14, labelpad = 5)\n",
    "ax.set_ylabel(\"Power Spectral Density\", fontsize = 14, labelpad = 5)\n",
    "ax.set_title(f\"L signal={2**int(np.log(Nwindow)/np.log(2))} - Nfft={2**int(np.log(Nfft)/np.log(2))}\", fontsize=14, pad=20)\n",
    "\n",
    "ax.tick_params(axis='both', which='major', labelsize=12)\n",
    "ax.tick_params(axis='both', which='minor', labelsize=12)\n",
    "\n",
    "# ax.text(5000,0.0001, rf\"$\\Delta f$={Fs/Nfft:.3f}\")\n",
    "\n",
    "ax.legend(loc = \"lower right\", fontsize = 18)\n",
    "\n",
    "ax.grid()\n",
    "\n",
    "plt.show()\n",
    "\n",
    "##########################################\n",
    "## Saving figure here\n",
    "##########################################\n",
    "fig.savefig('./figures/BBG_DSP_Nfft'+str(Nfft)+'.png',  bbox_inches = 'tight')"
   ]
  },
  {
   "cell_type": "markdown",
   "id": "1e532a7b-cf9c-4534-a7d4-944b7575c1e2",
   "metadata": {},
   "source": [
    "<div align=\"center\">\n",
    "    <hr> \n",
    "</div>"
   ]
  },
  {
   "cell_type": "markdown",
   "id": "7a965095-112c-4b31-8ff0-38b31a52ca9f",
   "metadata": {},
   "source": [
    "#### Question - 2"
   ]
  },
  {
   "cell_type": "markdown",
   "id": "681eb860-414f-45dc-b45c-3a38e80c1905",
   "metadata": {},
   "source": [
    "Now, you will calculate and plot the autocorrelation of the Gaussian white noise.\n",
    "\n",
    "1. **Generate the plot:** Calculate the autocorrelation of the signal and plot it as a function of time lag.\n",
    "2. **Zoom in and out:** Adjust the horizontal axis to zoom in and out on the plot.\n",
    "3. **Analyze and comment:** Describe the shape of the plot at different scales and explain what it tells you about the signal."
   ]
  },
  {
   "cell_type": "code",
   "execution_count": null,
   "id": "b5c19cbe-1e64-4f95-ad03-85702b0d0544",
   "metadata": {},
   "outputs": [],
   "source": [
    "##########################################\n",
    "## Main calculations are here\n",
    "##########################################\n",
    "import numpy as np\n",
    "test0 = Sig1[:50000] # shorten the calculation\n",
    "test = test0 - np.mean(test0) # centering\n",
    "testnorm = np.sum(test**2)\n",
    "acor = np.correlate(test,test,mode=\"same\") / testnorm\n",
    "acor = acor[len(acor)//2:]\n",
    "\n",
    "##########################################\n",
    "## Plotting routine\n",
    "##########################################\n",
    "\n",
    "fig, ax = plt.subplots(ncols=1, nrows=1, figsize=(10,5))\n",
    "\n",
    "delta_t=np.linspace(0,len(acor)/Fs1,len(acor))\n",
    "\n",
    "ax.plot(delta_t, acor, marker = \"o\", markersize=2, linewidth = 1, linestyle = \"-\",\n",
    "        markerfacecolor = \"tab:blue\", markeredgecolor=\"tab:blue\", color=\"tab:blue\")\n",
    "\n",
    "ax.set_xlabel(rf'$\\Delta$ t', fontsize = 14, labelpad = 5)\n",
    "ax.set_ylabel('Normalised autocorrelation', fontsize = 14, labelpad = 5)\n",
    "ax.set_title(f\"L signal={2**int(np.log(Nwindow)/np.log(2))} - Nfft={2**int(np.log(Nfft)/np.log(2))}\", fontsize=14, pad=20)\n",
    "\n",
    "ax.tick_params(axis='both', which='major', labelsize=12)\n",
    "ax.tick_params(axis='both', which='minor', labelsize=12)\n",
    "\n",
    "ax.grid()\n",
    "\n",
    "ax.set_xlim(-0.001,.01)\n",
    "    \n",
    "plt.show()\n",
    "\n",
    "##########################################\n",
    "## Saving figure here\n",
    "##########################################\n",
    "fig.savefig('./figures/BBG_Autocorr.png',  bbox_inches = 'tight')"
   ]
  }
 ],
 "metadata": {
  "kernelspec": {
   "display_name": "romain_tp",
   "language": "python",
   "name": "romain_tp"
  },
  "language_info": {
   "codemirror_mode": {
    "name": "ipython",
    "version": 3
   },
   "file_extension": ".py",
   "mimetype": "text/x-python",
   "name": "python",
   "nbconvert_exporter": "python",
   "pygments_lexer": "ipython3",
   "version": "3.13.7"
  }
 },
 "nbformat": 4,
 "nbformat_minor": 5
}
