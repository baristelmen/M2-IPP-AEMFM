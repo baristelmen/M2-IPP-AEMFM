{
 "cells": [
  {
   "cell_type": "code",
   "execution_count": null,
   "id": "3d517670-d7fe-4839-841d-083b7cff8c5c",
   "metadata": {},
   "outputs": [],
   "source": [
    "%load_ext autoreload\n",
    "%autoreload 2"
   ]
  },
  {
   "cell_type": "markdown",
   "id": "f6cca470-43f1-4f0c-9fdc-c5301065125f",
   "metadata": {},
   "source": [
    "<div align=\"center\">\n",
    "    <hr> \n",
    "  <span style=\"font-family: Arial, sans-serif; font-size: 24px; font-weight: bold;\">\n",
    "    M2 - IPParis - Advanced Experimental Methods in Fluid Mechanics Acquisition - Signal processing\n",
    "  </span>\n",
    "  <hr> \n",
    "  <span style=\"font-family: Arial, sans-serif; font-size: 18px;\"> \n",
    "    <span style=\"font-weight: bold;\">Instructor:</span> Romain Monchaux - romain.monchaux@ensta.fr\n",
    "  </span>\n",
    "    <br>\n",
    "    <br>\n",
    "    <span style=\"font-family: Arial, sans-serif; font-size: 18px;\"> \n",
    "        <span style=\"font-weight: bold;\">Affiliation:</span> ENSTA-Paris - Institut Polytechnique de Paris\n",
    "    </span>\n",
    "    <hr> \n",
    "</div>"
   ]
  },
  {
   "cell_type": "markdown",
   "id": "fefb6499-2ca9-4d4d-a03b-4b81108c4626",
   "metadata": {},
   "source": [
    "<div align=\"left\">\n",
    "    <hr> \n",
    "  <span style=\"font-family: Arial, sans-serif; font-size: 24px; font-weight: bold;\">\n",
    "    2 - Study of three synthetic signals\n",
    "  </span>\n",
    "</div>"
   ]
  },
  {
   "cell_type": "markdown",
   "id": "faff596c-0080-422b-877d-60f8a14d15bc",
   "metadata": {},
   "source": [
    "## Context"
   ]
  },
  {
   "cell_type": "markdown",
   "id": "850e17dd-86ed-4994-ba6c-3e89da84e7ac",
   "metadata": {},
   "source": [
    "The goal is to use the Welch method to estimate the spectrum (Power Spectral Density) of each signal. By analyzing the spectrum, you will identify and describe the unique properties of each signal. Consider saving figures that clearly represent your findings. Do not forget to write down the set of parameters that allowed you to plot it."
   ]
  },
  {
   "cell_type": "markdown",
   "id": "2d81172f-eac7-4ff2-9c78-45572a1d519e",
   "metadata": {},
   "source": [
    "<div align=\"center\">\n",
    "    <hr> \n",
    "</div>"
   ]
  },
  {
   "cell_type": "markdown",
   "id": "70e55561-69f0-4204-bcef-6a677322bec6",
   "metadata": {
    "jp-MarkdownHeadingCollapsed": true
   },
   "source": [
    "## Questions"
   ]
  },
  {
   "cell_type": "markdown",
   "id": "0862e4d0-1151-417b-81c0-7bafaa707fa5",
   "metadata": {},
   "source": [
    "<div align=\"center\">\n",
    "    <hr> \n",
    "</div>"
   ]
  },
  {
   "cell_type": "markdown",
   "id": "ca476f02-3911-4d0e-b1bd-d8174550fe5c",
   "metadata": {},
   "source": [
    "Now, you will analyze each of the three synthetic signals in the time domain.\n",
    "\n",
    "1. **Plot the Signals:** Plot each of the three signals as a function of time.\n",
    "2. **Visually Analyze:** Zoom in and out on each plot. Based on your observations, form a hypothesis about the nature of each signal. Is it periodic? Does it contain random noise? Are there multiple components?\n",
    "3. **Predict Statistical Properties:**\n",
    "   * Estimate the first-order moments (mean and standard deviation) of each signal based on what you see.\n",
    "   * Predict the expected shape of each signal's spectrum, probability density function (PDF), and autocorrelation function.\n",
    "\n",
    "The goal here is to make informed predictions based on a visual inspection of the raw data. Later, you will compare these hypotheses with the actual results from your calculations."
   ]
  },
  {
   "cell_type": "markdown",
   "id": "ead70627-2377-4647-8d8f-cefd6dd96a06",
   "metadata": {
    "jp-MarkdownHeadingCollapsed": true
   },
   "source": [
    "## Common questions for all signals - Q1 to Q5"
   ]
  },
  {
   "cell_type": "markdown",
   "id": "fc4e748e-8eb2-4fac-b4ab-b040204368a8",
   "metadata": {},
   "source": [
    "**You are asked to follow the questions below for all the signals.**\n",
    "\n",
    "* **Question 1:** plot the three signals as a function of time. Zoom in and out to guess about their content. Emit hypothesis about their nature. Try to guess their first moments and how will their spectra, probability density functions and auto-correlation will be.\n",
    "\n",
    "* **Question 2:** For each signal, plot its spectrum by playing with the plotting parameters using what we found in the previous part to get an estimate that you feel is accurate of the spectrum of the signal considered. Do you have more ideas about the nature of these signals?\n",
    "\n",
    "* **Question 3:** For each signal, use only $10^{12}$ points. Plot its probability density by playing with the plotting parameters using what we found in the previous section to get an estimate that you feel is accurate of the PDF of the signal you are considering. Do you have more ideas about the nature of these signals ?\n",
    "\n",
    "* **Question 4:** For each signal, use now 1020 points (the whole signal). Plot its probability density by playing with the plotting parameters using what we found in the previous\n",
    "section to get an estimate of the PDF of the signal you think is accurate. Do you have more ideas on the nature of these signals ?\n",
    "\n",
    "* **Question 5:** For each signal, plot its autocorrelation. Zoom in again to make sure you understand the result you have obtained. Do you have any more ideas about the nature of these signals ?\n",
    "\n",
    "* **Question 6:** Compare the values of the \"optimal\" parameters that allowed you to understand the nature of the signals studied.\n",
    "\n",
    "* **Question 7:** Draw conclusions about what you will do during your internship when you analyze experimental or digital signals."
   ]
  },
  {
   "cell_type": "markdown",
   "id": "d143724b-30ef-42ce-978d-233f97a9d675",
   "metadata": {
    "jp-MarkdownHeadingCollapsed": true
   },
   "source": [
    "## Common libraries and functions"
   ]
  },
  {
   "cell_type": "code",
   "execution_count": null,
   "id": "d8bc0fd3-2b3d-4862-9bf0-6df01c628f7e",
   "metadata": {},
   "outputs": [],
   "source": [
    "## Import necessary functions for all operations\n",
    "\n",
    "import matplotlib.pyplot as plt\n",
    "import numpy as np\n",
    "import scipy.io\n",
    "from scipy.signal import welch as welch"
   ]
  },
  {
   "cell_type": "code",
   "execution_count": null,
   "id": "a4d5a523-a7d1-429a-a81e-d00ec45f9973",
   "metadata": {},
   "outputs": [],
   "source": [
    "##########################################\n",
    "## Let us create the re-usable functions here\n",
    "##########################################\n",
    "\n",
    "## Function 1: Gaussian Probability Density Function (PDF)\n",
    "def Gauss(x):\n",
    "    \"\"\"\n",
    "    Calculates the value of the standard normal (Gaussian) PDF at a point x.\n",
    "    Formula: f(x) = (1 / sqrt(2*pi)) * exp(-x^2 / 2)\n",
    "    This function is useful for plotting a theoretical Gaussian distribution.\n",
    "    \"\"\"\n",
    "    return (1 / np.sqrt(2 * np.pi)) * np.exp(-(x ** 2) / 2)\n",
    "\n",
    "## Function 2: Estimating a PDF from a Signal\n",
    "def Calc_PDF(SIG, NbBin):\n",
    "    \"\"\"\n",
    "    Estimates the Probability Density Function (PDF) of a signal.\n",
    "    \n",
    "    This is done by creating a histogram and normalizing it so that the\n",
    "    total area under the histogram is equal to 1. The `density=True` option\n",
    "    in `np.histogram` handles this normalization automatically, which is\n",
    "    more efficient and less prone to error than manual normalization.\n",
    "    \n",
    "    Args:\n",
    "        SIG (numpy.ndarray): The input signal (a 1D array of numerical data).\n",
    "        NbBin (int): The number of bins to use for the histogram.\n",
    "        \n",
    "    Returns:\n",
    "        tuple: A tuple containing two numpy arrays:\n",
    "               - Bin_Centers (numpy.ndarray): The center values of each bin.\n",
    "               - PDF (numpy.ndarray): The estimated PDF values for each bin.\n",
    "    \"\"\"\n",
    "    # Use np.histogram with the 'density=True' option.\n",
    "    # This directly returns the PDF values for each bin.\n",
    "    PDF, Bin_Edges = np.histogram(SIG, bins=NbBin, density=True)\n",
    "    \n",
    "    # Calculate the center of each bin for plotting.\n",
    "    # np.diff() calculates the difference between consecutive bin edges.\n",
    "    # The result is a simple and accurate way to find the center of each bar.\n",
    "    Bin_Centers = Bin_Edges[:-1] + np.diff(Bin_Edges) / 2\n",
    "    \n",
    "    return Bin_Centers, PDF"
   ]
  },
  {
   "cell_type": "markdown",
   "id": "ec007128-9f2d-41eb-adb4-38804dbb67d4",
   "metadata": {
    "jp-MarkdownHeadingCollapsed": true
   },
   "source": [
    "## Signal - 1"
   ]
  },
  {
   "cell_type": "markdown",
   "id": "48a7e69f-1da1-41ff-851c-7597c65fea3b",
   "metadata": {},
   "source": [
    "### Loading signal and observaton - Q1"
   ]
  },
  {
   "cell_type": "code",
   "execution_count": null,
   "id": "86105894-5cfc-4f37-878a-63f254d0165f",
   "metadata": {},
   "outputs": [],
   "source": [
    "# Loading signal data\n",
    "signal_no = 2\n",
    "temp = scipy.io.loadmat(f'../data/sig{signal_no}.mat')\n",
    "t = temp['t'].flatten()      # get time vector t1\n",
    "Sig = temp[f'Sig{signal_no}'].flatten() # get signal vector\n",
    "Fs = int(temp['Fs'].item())         # get sampling frequency"
   ]
  },
  {
   "cell_type": "code",
   "execution_count": null,
   "id": "6df6215f-b71c-4c64-8677-56b4529f5396",
   "metadata": {},
   "outputs": [],
   "source": [
    "##########################################\n",
    "## Plotting routine\n",
    "##########################################\n",
    "fig, ax = plt.subplots(ncols=1, nrows=1, figsize=(10,5))\n",
    "\n",
    "ax.plot(t, Sig, marker = \".\", markersize=2, linewidth = 1, \n",
    "        markerfacecolor = \"tab:blue\", markeredgecolor=\"tab:blue\", color=\"tab:blue\")\n",
    "\n",
    "ax.set_xlabel(\"Time (s)\", fontsize = 14, labelpad = 5)\n",
    "ax.set_ylabel(\"Signal\", fontsize = 14, labelpad = 5)\n",
    "ax.set_title(f\"Sig {signal_no}\", fontsize = 14, pad = 20)\n",
    "\n",
    "ax.tick_params(axis='both', which='major', labelsize=12)\n",
    "ax.tick_params(axis='both', which='minor', labelsize=12)\n",
    "\n",
    "lim_min_x = t.min()\n",
    "lim_max_x = t.max()\n",
    "\n",
    "if lim_min_x > 0:\n",
    "    lim_min_x = 0\n",
    "\n",
    "ax.set_xlim(lim_min_x-1, int(lim_max_x*1.01))\n",
    "ax.grid()"
   ]
  },
  {
   "cell_type": "code",
   "execution_count": null,
   "id": "ff57c11e-5e6e-49d6-b4da-9ec5a74ab352",
   "metadata": {},
   "outputs": [],
   "source": [
    "## Define your limits here\n",
    "##########################################\n",
    "xmin = \n",
    "xmax = \n",
    "##########################################\n",
    "\n",
    "##########################################\n",
    "## Plotting routine\n",
    "##########################################\n",
    "fig, ax = plt.subplots(ncols=1, nrows=1, figsize=(10,5))\n",
    "\n",
    "ax.plot(t, Sig, marker = \".\", markersize=2, linewidth = 1, \n",
    "        markerfacecolor = \"tab:blue\", markeredgecolor=\"tab:blue\", color=\"tab:blue\")\n",
    "\n",
    "ax.set_xlabel(\"Time (s)\", fontsize = 14, labelpad = 5)\n",
    "ax.set_ylabel(\"Signal\", fontsize = 14, labelpad = 5)\n",
    "ax.set_title(\"Sig 1\", fontsize = 14, pad = 20)\n",
    "\n",
    "ax.tick_params(axis='both', which='major', labelsize=12)\n",
    "ax.tick_params(axis='both', which='minor', labelsize=12)\n",
    "\n",
    "ax.set_xlim([xmin,xmax/1000])\n",
    "plt.show()\n",
    "##########################################\n",
    "plt.savefig(f'./figures/signal{signal_no}_zoom_'+str(xmax)+'.png',  bbox_inches = 'tight')"
   ]
  },
  {
   "cell_type": "markdown",
   "id": "58f0ad39-f8e1-438e-a24b-f4a7dfa52359",
   "metadata": {},
   "source": [
    "### Spectrum plot - Q2"
   ]
  },
  {
   "cell_type": "code",
   "execution_count": null,
   "id": "cd25e2ea-79f4-49fb-a565-54b8dc56fc79",
   "metadata": {},
   "outputs": [],
   "source": [
    "# Statistics:\n",
    "average = np.mean(Sig)\n",
    "standardev = np.std(Sig)\n",
    "\n",
    "print(f'Signal {signal_no} time average is {average} its standard deviation is {standardev}')\n",
    "\n",
    "# Number of points used in the signal\n",
    "NbPoint = 2**XX\n",
    "# Number of points used for FFT calculation\n",
    "Nfft = 2**XX\n",
    "# Number of points in the window\n",
    "Nwindow = Nfft\n",
    "# Number of overlapping points\n",
    "Noverlap = Nfft/2\n",
    "\n",
    "## Let us calculate using welch\n",
    "F, Pxx = welch(Sig[:NbPoint], \n",
    "               Fs, \n",
    "               window = 'hamming', \n",
    "               nperseg = Nwindow, \n",
    "               noverlap = Noverlap, \n",
    "               nfft = Nfft)\n",
    "\n",
    "\n",
    "\n",
    "##########################################\n",
    "## Plotting routine\n",
    "##########################################\n",
    "fig, ax = plt.subplots(ncols=1, nrows=1, figsize=(10,7))\n",
    "\n",
    "ax.plot(F, Pxx, marker = \".\", markersize=2, linewidth = 1, \n",
    "        markerfacecolor = \"tab:blue\", markeredgecolor=\"tab:blue\", color=\"tab:blue\", label = rf\"$\\Delta f$={Fs/Nfft:.3f}\")\n",
    "\n",
    "ax.set_xlabel(\"Frequency (Hz)\", fontsize = 14, labelpad = 5)\n",
    "ax.set_ylabel(\"Power Spectral Density\", fontsize = 14, labelpad = 5)\n",
    "ax.set_title(f\"L signal={2**int(np.log(Nwindow)/np.log(2))} - Nfft={2**int(np.log(Nfft)/np.log(2))}\", fontsize=14, pad=20)\n",
    "\n",
    "ax.tick_params(axis='both', which='major', labelsize=12)\n",
    "ax.tick_params(axis='both', which='minor', labelsize=12)\n",
    "\n",
    "ax.legend(loc = \"upper right\", fontsize = 18)\n",
    "\n",
    "ax.grid()\n",
    "\n",
    "plt.show()\n",
    "\n",
    "##########################################\n",
    "## Saving figure here\n",
    "##########################################\n",
    "fig.savefig('./figures/Sig2_DSP_Nfft{Nfft}.png',  bbox_inches = 'tight')"
   ]
  },
  {
   "cell_type": "markdown",
   "id": "ec1e776f-13e4-4991-b3b0-49258ef16b0b",
   "metadata": {},
   "source": [
    "### Probability density function plots - Q3 and Q4"
   ]
  },
  {
   "cell_type": "code",
   "execution_count": null,
   "id": "81c802e3-8c37-401e-a404-0818bceb3add",
   "metadata": {},
   "outputs": [],
   "source": [
    "## Plot Probability Density Functions:\n",
    "NbPt = 2**XX\n",
    "NbBin = XX\n",
    "\n",
    "Bin,PDF = Calc_PDF(Sig[:NbPt], NbBin)\n",
    "BG = np.linspace(-5,5,2**20)\n",
    "\n",
    "##########################################\n",
    "## Plotting routine\n",
    "##########################################\n",
    "# Create a figure\n",
    "fig, ax = plt.subplots(nrows = 1, ncols = 2, figsize=(15, 5))\n",
    "\n",
    "ax[0].plot(Bin, PDF, linewidth=2, color=\"tab:blue\", linestyle=\"-\", label = \"Bin vs PDF\") \n",
    "ax[0].plot(BG, Gauss(BG), linewidth=2, color=\"black\", linestyle='-.', label = \"BG vs Gauss(BG)\")\n",
    "ax[0].set_xlabel('Signal Values', fontsize=14, labelpad=5)\n",
    "ax[0].set_ylabel('PDF', fontsize=14, labelpad=5)\n",
    "ax[0].tick_params(axis='both', which='major', labelsize=12)\n",
    "ax[0].tick_params(axis='both', which='minor', labelsize=12)\n",
    "ax[0].set_title(f'Signal {signal_no} Linear Scale')\n",
    "ax[0].grid()\n",
    "ax[0].legend(loc = \"upper right\")\n",
    "\n",
    "ax[1].plot(Bin, PDF, linewidth=2, color=\"tab:blue\", linestyle=\"-\", label = \"Bin vs PDF\") \n",
    "ax[1].plot(BG, Gauss(BG), linewidth=2, color=\"black\", linestyle='-.', label = \"BG vs Gauss(BG)\")\n",
    "ax[1].set_xlabel('Signal Values', fontsize=14, labelpad=5)\n",
    "ax[1].set_ylabel('PDF', fontsize=14, labelpad=5)\n",
    "ax[1].tick_params(axis='both', which='major', labelsize=12)\n",
    "ax[1].tick_params(axis='both', which='minor', labelsize=12)\n",
    "ax[1].set_title(f'Signal {signal_no} Log Scale')\n",
    "ax[1].set_yscale('log')\n",
    "ax[1].grid()\n",
    "ax[1].legend(loc = \"upper right\")\n",
    "\n",
    "# Adjust layout and save the figure\n",
    "plt.tight_layout()"
   ]
  },
  {
   "cell_type": "markdown",
   "id": "a04908a6-9d3e-4f79-af8a-1cb419eb7ced",
   "metadata": {},
   "source": [
    "### Autocorrelation plots - Q5"
   ]
  },
  {
   "cell_type": "code",
   "execution_count": null,
   "id": "7eaec809-d120-4b79-8505-59b003a85a8c",
   "metadata": {},
   "outputs": [],
   "source": [
    "##########################################\n",
    "## Main calculations are here\n",
    "##########################################\n",
    "import numpy as np\n",
    "test0 = Sig[:50000] # shorten the calculation\n",
    "test = test0 - np.mean(test0) # centering\n",
    "testnorm = np.sum(test**2)\n",
    "acor = np.correlate(test,test,mode=\"same\") / testnorm\n",
    "acor = acor[len(acor)//2:]\n",
    "\n",
    "##########################################\n",
    "## Plotting routine\n",
    "##########################################\n",
    "\n",
    "fig, ax = plt.subplots(ncols=1, nrows=1, figsize=(10,5))\n",
    "\n",
    "delta_t=np.linspace(0,len(acor)/Fs,len(acor))\n",
    "\n",
    "ax.plot(delta_t, acor, marker = \"o\", markersize=2, linewidth = 1, linestyle = \"-\",\n",
    "        markerfacecolor = \"tab:blue\", markeredgecolor=\"tab:blue\", color=\"tab:blue\")\n",
    "\n",
    "ax.set_xlabel(rf'$\\Delta$ t', fontsize = 14, labelpad = 5)\n",
    "ax.set_ylabel('Normalised autocorrelation', fontsize = 14, labelpad = 5)\n",
    "ax.set_title(f\"L signal={2**int(np.log(Nwindow)/np.log(2))} - Nfft={2**int(np.log(Nfft)/np.log(2))}\", fontsize=14, pad=20)\n",
    "\n",
    "ax.tick_params(axis='both', which='major', labelsize=12)\n",
    "ax.tick_params(axis='both', which='minor', labelsize=12)\n",
    "\n",
    "ax.grid()\n",
    "\n",
    "ax.set_xlim(-0.001,.01)\n",
    "    \n",
    "plt.show()\n",
    "\n",
    "##########################################\n",
    "## Saving figure here\n",
    "##########################################\n",
    "fig.savefig(f'./figures/signal{signal_no}_autocorrelation.png',  bbox_inches = 'tight')"
   ]
  },
  {
   "cell_type": "markdown",
   "id": "2569e67f",
   "metadata": {
    "jp-MarkdownHeadingCollapsed": true
   },
   "source": [
    "## Signal - 2"
   ]
  },
  {
   "cell_type": "markdown",
   "id": "64a82ca0",
   "metadata": {},
   "source": [
    "### Loading signal and observaton - Q1"
   ]
  },
  {
   "cell_type": "code",
   "execution_count": null,
   "id": "bff183bd",
   "metadata": {},
   "outputs": [],
   "source": [
    "# Loading signal data\n",
    "signal_no = 3\n",
    "temp = scipy.io.loadmat(f'../data/sig{signal_no}.mat')\n",
    "t = temp['t'].flatten()      # get time vector t1\n",
    "Sig = temp[f'Sig{signal_no}'].flatten() # get signal vector\n",
    "Fs = int(temp['Fs'].item())         # get sampling frequency"
   ]
  },
  {
   "cell_type": "code",
   "execution_count": null,
   "id": "1c5aa5b9",
   "metadata": {},
   "outputs": [],
   "source": [
    "##########################################\n",
    "## Plotting routine\n",
    "##########################################\n",
    "fig, ax = plt.subplots(ncols=1, nrows=1, figsize=(10,5))\n",
    "\n",
    "ax.plot(t, Sig, marker = \".\", markersize=2, linewidth = 1, \n",
    "        markerfacecolor = \"tab:blue\", markeredgecolor=\"tab:blue\", color=\"tab:blue\")\n",
    "\n",
    "ax.set_xlabel(\"Time (s)\", fontsize = 14, labelpad = 5)\n",
    "ax.set_ylabel(\"Signal\", fontsize = 14, labelpad = 5)\n",
    "ax.set_title(f\"Sig {signal_no}\", fontsize = 14, pad = 20)\n",
    "\n",
    "ax.tick_params(axis='both', which='major', labelsize=12)\n",
    "ax.tick_params(axis='both', which='minor', labelsize=12)\n",
    "\n",
    "lim_min_x = t.min()\n",
    "lim_max_x = t.max()\n",
    "\n",
    "if lim_min_x > 0:\n",
    "    lim_min_x = 0\n",
    "\n",
    "ax.set_xlim(lim_min_x-1, int(lim_max_x*1.01))\n",
    "ax.grid()"
   ]
  },
  {
   "cell_type": "code",
   "execution_count": null,
   "id": "40f6455d-23f6-4d52-9288-ad80db16af02",
   "metadata": {},
   "outputs": [],
   "source": [
    "## Define your limits here\n",
    "##########################################\n",
    "xmin = \n",
    "xmax = \n",
    "##########################################\n",
    "\n",
    "##########################################\n",
    "## Plotting routine\n",
    "##########################################\n",
    "fig, ax = plt.subplots(ncols=1, nrows=1, figsize=(10,5))\n",
    "\n",
    "ax.plot(t, Sig, marker = \".\", markersize=2, linewidth = 1, \n",
    "        markerfacecolor = \"tab:blue\", markeredgecolor=\"tab:blue\", color=\"tab:blue\")\n",
    "\n",
    "ax.set_xlabel(\"Time (s)\", fontsize = 14, labelpad = 5)\n",
    "ax.set_ylabel(\"Signal\", fontsize = 14, labelpad = 5)\n",
    "ax.set_title(\"Sig 1\", fontsize = 14, pad = 20)\n",
    "\n",
    "ax.tick_params(axis='both', which='major', labelsize=12)\n",
    "ax.tick_params(axis='both', which='minor', labelsize=12)\n",
    "\n",
    "ax.set_xlim([xmin,xmax/1000])\n",
    "plt.show()\n",
    "##########################################\n",
    "plt.savefig(f'./figures/signal{signal_no}_zoom_'+str(xmax)+'.png',  bbox_inches = 'tight')"
   ]
  },
  {
   "cell_type": "markdown",
   "id": "8745b8f4",
   "metadata": {},
   "source": [
    "### Spectrum plot - Q2"
   ]
  },
  {
   "cell_type": "code",
   "execution_count": null,
   "id": "e1e12a8a",
   "metadata": {},
   "outputs": [],
   "source": [
    "# Statistics:\n",
    "average = np.mean(Sig)\n",
    "standardev = np.std(Sig)\n",
    "\n",
    "print(f'Signal {signal_no} time average is {average} its standard deviation is {standardev}')\n",
    "\n",
    "# Number of points used in the signal\n",
    "NbPoint = 2**XX\n",
    "# Number of points used for FFT calculation\n",
    "Nfft = 2**XX\n",
    "# Number of points in the window\n",
    "Nwindow = Nfft\n",
    "# Number of overlapping points\n",
    "Noverlap = Nfft/2\n",
    "\n",
    "## Let us calculate using welch\n",
    "F, Pxx = welch(Sig[:NbPoint], \n",
    "               Fs, \n",
    "               window = 'hamming', \n",
    "               nperseg = Nwindow, \n",
    "               noverlap = Noverlap, \n",
    "               nfft = Nfft)\n",
    "\n",
    "\n",
    "\n",
    "##########################################\n",
    "## Plotting routine\n",
    "##########################################\n",
    "fig, ax = plt.subplots(ncols=1, nrows=1, figsize=(10,7))\n",
    "\n",
    "ax.plot(F, Pxx, marker = \".\", markersize=2, linewidth = 1, \n",
    "        markerfacecolor = \"tab:blue\", markeredgecolor=\"tab:blue\", color=\"tab:blue\", label = rf\"$\\Delta f$={Fs/Nfft:.3f}\")\n",
    "\n",
    "ax.set_xlabel(\"Frequency (Hz)\", fontsize = 14, labelpad = 5)\n",
    "ax.set_ylabel(\"Power Spectral Density\", fontsize = 14, labelpad = 5)\n",
    "ax.set_title(f\"L signal={2**int(np.log(Nwindow)/np.log(2))} - Nfft={2**int(np.log(Nfft)/np.log(2))}\", fontsize=14, pad=20)\n",
    "\n",
    "ax.tick_params(axis='both', which='major', labelsize=12)\n",
    "ax.tick_params(axis='both', which='minor', labelsize=12)\n",
    "\n",
    "ax.legend(loc = \"upper right\", fontsize = 18)\n",
    "\n",
    "ax.grid()\n",
    "\n",
    "plt.show()\n",
    "\n",
    "##########################################\n",
    "## Saving figure here\n",
    "##########################################\n",
    "fig.savefig('./figures/Sig2_DSP_Nfft{Nfft}.png',  bbox_inches = 'tight')"
   ]
  },
  {
   "cell_type": "markdown",
   "id": "ec2ea6d4",
   "metadata": {},
   "source": [
    "### Probability density function plots - Q3 and Q4"
   ]
  },
  {
   "cell_type": "code",
   "execution_count": null,
   "id": "6a0adcf3",
   "metadata": {},
   "outputs": [],
   "source": [
    "## Plot Probability Density Functions:\n",
    "NbPt = 2**XX \n",
    "NbBin = XX \n",
    "\n",
    "Bin,PDF = Calc_PDF(Sig[:NbPt], NbBin)\n",
    "BG = np.linspace(-5,5,2**20)\n",
    "\n",
    "##########################################\n",
    "## Plotting routine\n",
    "##########################################\n",
    "# Create a figure\n",
    "fig, ax = plt.subplots(nrows = 1, ncols = 2, figsize=(15, 5))\n",
    "\n",
    "ax[0].plot(Bin, PDF, linewidth=2, color=\"tab:blue\", linestyle=\"-\", label = \"Bin vs PDF\") \n",
    "ax[0].plot(BG, Gauss(BG), linewidth=2, color=\"black\", linestyle='-.', label = \"BG vs Gauss(BG)\")\n",
    "ax[0].set_xlabel('Signal Values', fontsize=14, labelpad=5)\n",
    "ax[0].set_ylabel('PDF', fontsize=14, labelpad=5)\n",
    "ax[0].tick_params(axis='both', which='major', labelsize=12)\n",
    "ax[0].tick_params(axis='both', which='minor', labelsize=12)\n",
    "ax[0].set_title(f'Signal {signal_no} Linear Scale')\n",
    "ax[0].grid()\n",
    "ax[0].legend(loc = \"upper right\")\n",
    "\n",
    "ax[1].plot(Bin, PDF, linewidth=2, color=\"tab:blue\", linestyle=\"-\", label = \"Bin vs PDF\") \n",
    "ax[1].plot(BG, Gauss(BG), linewidth=2, color=\"black\", linestyle='-.', label = \"BG vs Gauss(BG)\")\n",
    "ax[1].set_xlabel('Signal Values', fontsize=14, labelpad=5)\n",
    "ax[1].set_ylabel('PDF', fontsize=14, labelpad=5)\n",
    "ax[1].tick_params(axis='both', which='major', labelsize=12)\n",
    "ax[1].tick_params(axis='both', which='minor', labelsize=12)\n",
    "ax[1].set_title(f'Signal {signal_no} Log Scale')\n",
    "ax[1].set_yscale('log')\n",
    "ax[1].grid()\n",
    "ax[1].legend(loc = \"upper right\")\n",
    "\n",
    "# Adjust layout and save the figure\n",
    "plt.tight_layout()"
   ]
  },
  {
   "cell_type": "markdown",
   "id": "d91a70ab",
   "metadata": {},
   "source": [
    "### Autocorrelation plots - Q5"
   ]
  },
  {
   "cell_type": "code",
   "execution_count": null,
   "id": "3e90b288",
   "metadata": {},
   "outputs": [],
   "source": [
    "##########################################\n",
    "## Main calculations are here\n",
    "##########################################\n",
    "import numpy as np\n",
    "test0 = Sig[:50000] # shorten the calculation\n",
    "test = test0 - np.mean(test0) # centering\n",
    "testnorm = np.sum(test**2)\n",
    "acor = np.correlate(test,test,mode=\"same\") / testnorm\n",
    "acor = acor[len(acor)//2:]\n",
    "\n",
    "##########################################\n",
    "## Plotting routine\n",
    "##########################################\n",
    "\n",
    "fig, ax = plt.subplots(ncols=1, nrows=1, figsize=(10,5))\n",
    "\n",
    "delta_t=np.linspace(0,len(acor)/Fs,len(acor))\n",
    "\n",
    "ax.plot(delta_t, acor, marker = \"o\", markersize=2, linewidth = 1, linestyle = \"-\",\n",
    "        markerfacecolor = \"tab:blue\", markeredgecolor=\"tab:blue\", color=\"tab:blue\")\n",
    "\n",
    "ax.set_xlabel(rf'$\\Delta$ t', fontsize = 14, labelpad = 5)\n",
    "ax.set_ylabel('Normalised autocorrelation', fontsize = 14, labelpad = 5)\n",
    "ax.set_title(f\"L signal={2**int(np.log(Nwindow)/np.log(2))} - Nfft={2**int(np.log(Nfft)/np.log(2))}\", fontsize=14, pad=20)\n",
    "\n",
    "ax.tick_params(axis='both', which='major', labelsize=12)\n",
    "ax.tick_params(axis='both', which='minor', labelsize=12)\n",
    "\n",
    "ax.grid()\n",
    "\n",
    "ax.set_xlim(-0.001,.01)\n",
    "    \n",
    "plt.show()\n",
    "\n",
    "##########################################\n",
    "## Saving figure here\n",
    "##########################################\n",
    "fig.savefig(f'./figures/signal{signal_no}_autocorrelation.png',  bbox_inches = 'tight')"
   ]
  },
  {
   "cell_type": "markdown",
   "id": "6a5c5409",
   "metadata": {
    "jp-MarkdownHeadingCollapsed": true
   },
   "source": [
    "## Signal - 3"
   ]
  },
  {
   "cell_type": "markdown",
   "id": "ed717c24",
   "metadata": {},
   "source": [
    "### Loading signal and observaton - Q1"
   ]
  },
  {
   "cell_type": "code",
   "execution_count": null,
   "id": "7bd406b1",
   "metadata": {},
   "outputs": [],
   "source": [
    "# Loading signal data\n",
    "signal_no = 4\n",
    "temp = scipy.io.loadmat(f'../data/sig{signal_no}.mat')\n",
    "t = temp['t'].flatten()      # get time vector t1\n",
    "Sig = temp[f'Sig{signal_no}'].flatten() # get signal vector\n",
    "Fs = int(temp['Fs'].item())         # get sampling frequency"
   ]
  },
  {
   "cell_type": "code",
   "execution_count": null,
   "id": "7797fe21",
   "metadata": {},
   "outputs": [],
   "source": [
    "##########################################\n",
    "## Plotting routine\n",
    "##########################################\n",
    "fig, ax = plt.subplots(ncols=1, nrows=1, figsize=(10,5))\n",
    "\n",
    "ax.plot(t, Sig, marker = \".\", markersize=2, linewidth = 1, \n",
    "        markerfacecolor = \"tab:blue\", markeredgecolor=\"tab:blue\", color=\"tab:blue\")\n",
    "\n",
    "ax.set_xlabel(\"Time (s)\", fontsize = 14, labelpad = 5)\n",
    "ax.set_ylabel(\"Signal\", fontsize = 14, labelpad = 5)\n",
    "ax.set_title(f\"Sig {signal_no}\", fontsize = 14, pad = 20)\n",
    "\n",
    "ax.tick_params(axis='both', which='major', labelsize=12)\n",
    "ax.tick_params(axis='both', which='minor', labelsize=12)\n",
    "\n",
    "lim_min_x = t.min()\n",
    "lim_max_x = t.max()\n",
    "\n",
    "if lim_min_x > 0:\n",
    "    lim_min_x = 0\n",
    "\n",
    "ax.set_xlim(lim_min_x-1, int(lim_max_x*1.01))\n",
    "ax.grid()"
   ]
  },
  {
   "cell_type": "code",
   "execution_count": null,
   "id": "87ddc69e-ad8a-425a-9e4f-1e48aa5296e8",
   "metadata": {},
   "outputs": [],
   "source": [
    "## Define your limits here\n",
    "##########################################\n",
    "xmin = \n",
    "xmax = \n",
    "##########################################\n",
    "\n",
    "##########################################\n",
    "## Plotting routine\n",
    "##########################################\n",
    "fig, ax = plt.subplots(ncols=1, nrows=1, figsize=(10,5))\n",
    "\n",
    "ax.plot(t, Sig, marker = \".\", markersize=2, linewidth = 1, \n",
    "        markerfacecolor = \"tab:blue\", markeredgecolor=\"tab:blue\", color=\"tab:blue\")\n",
    "\n",
    "ax.set_xlabel(\"Time (s)\", fontsize = 14, labelpad = 5)\n",
    "ax.set_ylabel(\"Signal\", fontsize = 14, labelpad = 5)\n",
    "ax.set_title(\"Sig 1\", fontsize = 14, pad = 20)\n",
    "\n",
    "ax.tick_params(axis='both', which='major', labelsize=12)\n",
    "ax.tick_params(axis='both', which='minor', labelsize=12)\n",
    "\n",
    "ax.set_xlim([xmin,xmax/1000])\n",
    "plt.show()\n",
    "##########################################\n",
    "plt.savefig(f'./figures/signal{signal_no}_zoom_'+str(xmax)+'.png',  bbox_inches = 'tight')"
   ]
  },
  {
   "cell_type": "markdown",
   "id": "addd90d5",
   "metadata": {},
   "source": [
    "### Spectrum plot - Q2"
   ]
  },
  {
   "cell_type": "code",
   "execution_count": null,
   "id": "39ec4327",
   "metadata": {},
   "outputs": [],
   "source": [
    "# Statistics:\n",
    "average = np.mean(Sig)\n",
    "standardev = np.std(Sig)\n",
    "\n",
    "print(f'Signal {signal_no} time average is {average} its standard deviation is {standardev}')\n",
    "\n",
    "# Number of points used in the signal\n",
    "NbPoint = 2**XX\n",
    "# Number of points used for FFT calculation\n",
    "Nfft = 2**XX\n",
    "# Number of points in the window\n",
    "Nwindow = Nfft\n",
    "# Number of overlapping points\n",
    "Noverlap = Nfft/2\n",
    "\n",
    "## Let us calculate using welch\n",
    "F, Pxx = welch(Sig[:NbPoint], \n",
    "               Fs, \n",
    "               window = 'hamming', \n",
    "               nperseg = Nwindow, \n",
    "               noverlap = Noverlap, \n",
    "               nfft = Nfft)\n",
    "\n",
    "\n",
    "\n",
    "##########################################\n",
    "## Plotting routine\n",
    "##########################################\n",
    "fig, ax = plt.subplots(ncols=1, nrows=1, figsize=(10,7))\n",
    "\n",
    "ax.plot(F, Pxx, marker = \".\", markersize=2, linewidth = 1, \n",
    "        markerfacecolor = \"tab:blue\", markeredgecolor=\"tab:blue\", color=\"tab:blue\", label = rf\"$\\Delta f$={Fs/Nfft:.3f}\")\n",
    "\n",
    "ax.set_xlabel(\"Frequency (Hz)\", fontsize = 14, labelpad = 5)\n",
    "ax.set_ylabel(\"Power Spectral Density\", fontsize = 14, labelpad = 5)\n",
    "ax.set_title(f\"L signal={2**int(np.log(Nwindow)/np.log(2))} - Nfft={2**int(np.log(Nfft)/np.log(2))}\", fontsize=14, pad=20)\n",
    "\n",
    "ax.tick_params(axis='both', which='major', labelsize=12)\n",
    "ax.tick_params(axis='both', which='minor', labelsize=12)\n",
    "\n",
    "ax.legend(loc = \"upper right\", fontsize = 18)\n",
    "\n",
    "ax.grid()\n",
    "\n",
    "plt.show()\n",
    "\n",
    "##########################################\n",
    "## Saving figure here\n",
    "##########################################\n",
    "fig.savefig('./figures/Sig2_DSP_Nfft{Nfft}.png',  bbox_inches = 'tight')"
   ]
  },
  {
   "cell_type": "markdown",
   "id": "e11776ba",
   "metadata": {},
   "source": [
    "### Probability density function plots - Q3 and Q4"
   ]
  },
  {
   "cell_type": "code",
   "execution_count": null,
   "id": "24085ad2",
   "metadata": {},
   "outputs": [],
   "source": [
    "## Plot Probability Density Functions:\n",
    "NbPt = 2**XX\n",
    "NbBin = XX\n",
    "\n",
    "Bin,PDF = Calc_PDF(Sig[:NbPt], NbBin)\n",
    "BG = np.linspace(-5,5,2**20)\n",
    "\n",
    "##########################################\n",
    "## Plotting routine\n",
    "##########################################\n",
    "# Create a figure\n",
    "fig, ax = plt.subplots(nrows = 1, ncols = 2, figsize=(15, 5))\n",
    "\n",
    "ax[0].plot(Bin, PDF, linewidth=2, color=\"tab:blue\", linestyle=\"-\", label = \"Bin vs PDF\") \n",
    "ax[0].plot(BG, Gauss(BG), linewidth=2, color=\"black\", linestyle='-.', label = \"BG vs Gauss(BG)\")\n",
    "ax[0].set_xlabel('Signal Values', fontsize=14, labelpad=5)\n",
    "ax[0].set_ylabel('PDF', fontsize=14, labelpad=5)\n",
    "ax[0].tick_params(axis='both', which='major', labelsize=12)\n",
    "ax[0].tick_params(axis='both', which='minor', labelsize=12)\n",
    "ax[0].set_title(f'Signal {signal_no} Linear Scale')\n",
    "ax[0].grid()\n",
    "ax[0].legend(loc = \"upper right\")\n",
    "\n",
    "ax[1].plot(Bin, PDF, linewidth=2, color=\"tab:blue\", linestyle=\"-\", label = \"Bin vs PDF\") \n",
    "ax[1].plot(BG, Gauss(BG), linewidth=2, color=\"black\", linestyle='-.', label = \"BG vs Gauss(BG)\")\n",
    "ax[1].set_xlabel('Signal Values', fontsize=14, labelpad=5)\n",
    "ax[1].set_ylabel('PDF', fontsize=14, labelpad=5)\n",
    "ax[1].tick_params(axis='both', which='major', labelsize=12)\n",
    "ax[1].tick_params(axis='both', which='minor', labelsize=12)\n",
    "ax[1].set_title(f'Signal {signal_no} Log Scale')\n",
    "ax[1].set_yscale('log')\n",
    "ax[1].grid()\n",
    "ax[1].legend(loc = \"upper right\")\n",
    "\n",
    "# Adjust layout and save the figure\n",
    "plt.tight_layout()"
   ]
  },
  {
   "cell_type": "markdown",
   "id": "43030439",
   "metadata": {},
   "source": [
    "### Autocorrelation plots - Q5"
   ]
  },
  {
   "cell_type": "code",
   "execution_count": null,
   "id": "881282bb",
   "metadata": {},
   "outputs": [],
   "source": [
    "##########################################\n",
    "## Main calculations are here\n",
    "##########################################\n",
    "import numpy as np\n",
    "test0 = Sig[:50000] # shorten the calculation\n",
    "test = test0 - np.mean(test0) # centering\n",
    "testnorm = np.sum(test**2)\n",
    "acor = np.correlate(test,test,mode=\"same\") / testnorm\n",
    "acor = acor[len(acor)//2:]\n",
    "\n",
    "##########################################\n",
    "## Plotting routine\n",
    "##########################################\n",
    "\n",
    "fig, ax = plt.subplots(ncols=1, nrows=1, figsize=(10,5))\n",
    "\n",
    "delta_t=np.linspace(0,len(acor)/Fs,len(acor))\n",
    "\n",
    "ax.plot(delta_t, acor, marker = \"o\", markersize=2, linewidth = 1, linestyle = \"-\",\n",
    "        markerfacecolor = \"tab:blue\", markeredgecolor=\"tab:blue\", color=\"tab:blue\")\n",
    "\n",
    "ax.set_xlabel(rf'$\\Delta$ t', fontsize = 14, labelpad = 5)\n",
    "ax.set_ylabel('Normalised autocorrelation', fontsize = 14, labelpad = 5)\n",
    "ax.set_title(f\"L signal={2**int(np.log(Nwindow)/np.log(2))} - Nfft={2**int(np.log(Nfft)/np.log(2))}\", fontsize=14, pad=20)\n",
    "\n",
    "ax.tick_params(axis='both', which='major', labelsize=12)\n",
    "ax.tick_params(axis='both', which='minor', labelsize=12)\n",
    "\n",
    "ax.grid()\n",
    "\n",
    "ax.set_xlim(-0.001,.01)\n",
    "    \n",
    "plt.show()\n",
    "\n",
    "##########################################\n",
    "## Saving figure here\n",
    "##########################################\n",
    "fig.savefig(f'./figures/signal{signal_no}_autocorrelation.png',  bbox_inches = 'tight')"
   ]
  },
  {
   "cell_type": "markdown",
   "id": "e15b8da8-924c-4999-b33a-a9e75691a0e1",
   "metadata": {
    "jp-MarkdownHeadingCollapsed": true
   },
   "source": [
    "## Final verdict reminder - Q6 and Q7"
   ]
  },
  {
   "cell_type": "markdown",
   "id": "f4a45489-e6ee-4d1a-a1e8-ee90f41214cf",
   "metadata": {},
   "source": [
    "### Question - 6\n",
    "\n",
    "* **Compare the values of the \"optimal\" parameters that allowed you to understand the nature of the signals studied.**\n",
    "\n",
    "<div style=\"background-color: #e0f2f1;\">\n",
    "  <span style=\"font-weight: bold;\">Hint:</span> You can answer the question on the cell below\n",
    "</div>"
   ]
  },
  {
   "cell_type": "markdown",
   "id": "c077325b-11b2-4a2c-8a71-867ba4413ff1",
   "metadata": {},
   "source": []
  },
  {
   "cell_type": "markdown",
   "id": "34643c3f-6084-43bb-9632-2af827e447c0",
   "metadata": {},
   "source": [
    "### Question - 6\n",
    "\n",
    "* **Draw conclusions about what you will do during your internship when you analyze experimental or digital signals.**\n",
    "\n",
    "<div style=\"background-color: #e0f2f1;\">\n",
    "  <span style=\"font-weight: bold;\">Hint:</span> You can answer the question on the cell below\n",
    "</div>"
   ]
  },
  {
   "cell_type": "markdown",
   "id": "15eea1d4-a245-4567-8ac0-9d044f4383e5",
   "metadata": {},
   "source": []
  }
 ],
 "metadata": {
  "kernelspec": {
   "display_name": "romain_tp",
   "language": "python",
   "name": "romain_tp"
  },
  "language_info": {
   "codemirror_mode": {
    "name": "ipython",
    "version": 3
   },
   "file_extension": ".py",
   "mimetype": "text/x-python",
   "name": "python",
   "nbconvert_exporter": "python",
   "pygments_lexer": "ipython3",
   "version": "3.13.7"
  }
 },
 "nbformat": 4,
 "nbformat_minor": 5
}
